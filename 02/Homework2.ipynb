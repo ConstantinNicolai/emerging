{
 "cells": [
  {
   "cell_type": "markdown",
   "metadata": {},
   "source": [
    "## Homework 2\n",
    "\n",
    "- Constantin Nicolai, 4079820\n",
    "- Nils Kochendörfer, 3654093\n"
   ]
  },
  {
   "cell_type": "code",
   "execution_count": 1,
   "metadata": {},
   "outputs": [
    {
     "name": "stderr",
     "output_type": "stream",
     "text": [
      "2023-11-20 15:37:51.713805: I tensorflow/core/util/port.cc:113] oneDNN custom operations are on. You may see slightly different numerical results due to floating-point round-off errors from different computation orders. To turn them off, set the environment variable `TF_ENABLE_ONEDNN_OPTS=0`.\n",
      "2023-11-20 15:37:51.759609: I external/local_tsl/tsl/cuda/cudart_stub.cc:31] Could not find cuda drivers on your machine, GPU will not be used.\n",
      "2023-11-20 15:37:52.028146: E external/local_xla/xla/stream_executor/cuda/cuda_dnn.cc:9261] Unable to register cuDNN factory: Attempting to register factory for plugin cuDNN when one has already been registered\n",
      "2023-11-20 15:37:52.028272: E external/local_xla/xla/stream_executor/cuda/cuda_fft.cc:607] Unable to register cuFFT factory: Attempting to register factory for plugin cuFFT when one has already been registered\n",
      "2023-11-20 15:37:52.074917: E external/local_xla/xla/stream_executor/cuda/cuda_blas.cc:1515] Unable to register cuBLAS factory: Attempting to register factory for plugin cuBLAS when one has already been registered\n",
      "2023-11-20 15:37:52.180405: I external/local_tsl/tsl/cuda/cudart_stub.cc:31] Could not find cuda drivers on your machine, GPU will not be used.\n",
      "2023-11-20 15:37:52.182013: I tensorflow/core/platform/cpu_feature_guard.cc:182] This TensorFlow binary is optimized to use available CPU instructions in performance-critical operations.\n",
      "To enable the following instructions: AVX2 AVX_VNNI FMA, in other operations, rebuild TensorFlow with the appropriate compiler flags.\n",
      "2023-11-20 15:37:53.039205: W tensorflow/compiler/tf2tensorrt/utils/py_utils.cc:38] TF-TRT Warning: Could not find TensorRT\n"
     ]
    }
   ],
   "source": [
    "import numpy as np\n",
    "import matplotlib.pyplot as plt\n",
    "import tensorflow as tf\n",
    "from scipy import signal\n",
    "from tensorflow import keras"
   ]
  },
  {
   "cell_type": "code",
   "execution_count": 2,
   "id": "46677f8f",
   "metadata": {},
   "outputs": [
    {
     "name": "stdout",
     "output_type": "stream",
     "text": [
      "(10000, 28, 28)\n"
     ]
    }
   ],
   "source": [
    "# Load MNIST dataset\n",
    "mnist = tf.keras.datasets.mnist\n",
    "\n",
    "(train_images, train_labels), (test_images, test_labels) = mnist.load_data()\n",
    "\n",
    "print(test_images.shape)\n",
    "\n",
    "model=tf.keras.models.load_model('my_org_model_top4_quant.h5')\n",
    "\n",
    "a = model.get_weights()\n",
    "\n",
    "#which means that it will return the input tensors of each layer in the original model. \n",
    "#This allows you to access the intermediate activations of all layers in the model for a given input.\n",
    "extractor_in = keras.Model(inputs=model.inputs,\n",
    "                        outputs=[layer.input for layer in model.layers])\n",
    "\n",
    "# The 'test_images' data is passed through the extractor_in model, \n",
    "#and the output of this operation is stored in the features_in variable. \n",
    "#As a result, features_in will be a list of arrays, \n",
    "#with each array corresponding to the activations of the corresponding layer in the original model.\n",
    "features_in = extractor_in(test_images)"
   ]
  },
  {
   "cell_type": "code",
   "execution_count": 3,
   "id": "e684946d",
   "metadata": {},
   "outputs": [],
   "source": [
    "Multiplier_Exact=np.zeros([256,256])\n",
    "for i in range(-128,128):\n",
    "    for j in range(-128,128):\n",
    "        Multiplier_Exact[i+128,j+128]=i*j"
   ]
  },
  {
   "cell_type": "markdown",
   "metadata": {},
   "source": [
    "# Subtask 1.1"
   ]
  },
  {
   "cell_type": "code",
   "execution_count": 4,
   "id": "4a23990f",
   "metadata": {},
   "outputs": [],
   "source": [
    "Multiplier_Approx0=Multiplier_Exact\n",
    "Multiplier_Approx1=np.load(\"Approximate Mult1.npy\")\n",
    "Multiplier_Approx2=np.load(\"Approximate Mult2.npy\")\n",
    "Multiplier_Approx3=np.load(\"Approximate Mult3.npy\")\n",
    "Multiplier_Approx4=np.load(\"Approximate Mult4.npy\")\n",
    "Multiplier_Approx5=np.load(\"Approximate Mult5.npy\")\n",
    "Multiplier_Approx6=np.load(\"Approximate Mult6.npy\")\n",
    "Multiplier_Approx7=np.load(\"Approximate Mult7.npy\")\n",
    "Multiplier_Approx8=np.load(\"Approximate Mult8.npy\")\n"
   ]
  },
  {
   "cell_type": "code",
   "execution_count": 5,
   "id": "b6f2104f",
   "metadata": {},
   "outputs": [],
   "source": [
    "def My_Mult_Var(a,b,t=0):\n",
    "    if t==0:\n",
    "        Multiplier_Approx=Multiplier_Approx0\n",
    "    elif t==1:\n",
    "        Multiplier_Approx=Multiplier_Approx1\n",
    "    elif t==2:\n",
    "        Multiplier_Approx=Multiplier_Approx2\n",
    "    elif t==3:\n",
    "        Multiplier_Approx=Multiplier_Approx3\n",
    "    elif t==4:\n",
    "        Multiplier_Approx=Multiplier_Approx4\n",
    "    elif t==5:\n",
    "        Multiplier_Approx=Multiplier_Approx5\n",
    "    elif t==6:\n",
    "        Multiplier_Approx=Multiplier_Approx6\n",
    "    elif t==7:\n",
    "        Multiplier_Approx=Multiplier_Approx7\n",
    "    elif t==8:\n",
    "        Multiplier_Approx=Multiplier_Approx8\n",
    "\n",
    "    a=np.array(a)\n",
    "    b=np.array(b)\n",
    "    a_shape=np.shape(a)\n",
    "    b=np.reshape(b,a_shape)\n",
    "    res=np.zeros(a_shape)\n",
    "    if len(a_shape)==1:\n",
    "        for i in range(np.shape(a)[0]):\n",
    "            res[i]=Multiplier_Approx[int(a[i])+128,int(b[i])+128]\n",
    "    if len(a_shape)==2:\n",
    "        for i in range(a_shape[0]):\n",
    "            for j in range(a_shape[1]):\n",
    "                res[i,j]=Multiplier_Approx[int(a[i,j])+128,int(b[i,j])+128]\n",
    "    return res"
   ]
  },
  {
   "cell_type": "code",
   "execution_count": 6,
   "id": "797b13dc",
   "metadata": {},
   "outputs": [],
   "source": [
    "def My_Matmul_LT_Var(a,b,t=0):\n",
    "    a=np.array(a)\n",
    "    b=np.array(b)\n",
    "    a_shape=np.shape(a)\n",
    "    b_shape=np.shape(b)\n",
    "    res=np.zeros([a_shape[0],b_shape[1]])\n",
    "    for i in range(a_shape[0]):\n",
    "        for j in range(b_shape[1]):\n",
    "            res[i,j]=np.sum(My_Mult_Var(a[i,:],b[:,j],t))\n",
    "    return res"
   ]
  },
  {
   "cell_type": "code",
   "execution_count": 7,
   "id": "0a3469f7",
   "metadata": {},
   "outputs": [],
   "source": [
    "def My_Conv2d_LT_Var(a,b,t=0):\n",
    "    a=np.array(a)\n",
    "    b=np.array(b)\n",
    "    a_shape=np.shape(a)\n",
    "    b_shape=np.shape(b)\n",
    "    res_shape1=np.abs(a_shape[0]-b_shape[0])+1\n",
    "    res_shape2=np.abs(a_shape[1]-b_shape[1])+1\n",
    "    res=np.zeros([res_shape1,res_shape2])\n",
    "    for i in range(res_shape1):\n",
    "        for j in range(res_shape2):\n",
    "            res[i,j]=np.sum(My_Mult_Var(np.flip(b),a[i:i+b_shape[0],j:j+b_shape[1]],t))\n",
    "    return res"
   ]
  },
  {
   "cell_type": "code",
   "execution_count": 8,
   "id": "256bcb1c",
   "metadata": {},
   "outputs": [],
   "source": [
    "def CNN_Visual(k,t):  # First Input Determines the Number of the Test Image, \n",
    "                            # and Second one Determines the Type of the Multiplier\n",
    "    z1=np.floor(features_in[0][k]/2)     # Quantization\n",
    "    z2=np.zeros([28,28,64])\n",
    "    for i in range(64):\n",
    "        for j in range(1):\n",
    "            z2[:,:,i]=z2[:,:,i]+My_Conv2d_LT_Var(np.array(z1[:,:,j]),np.flip(a[0][:,:,j,i]),t)\n",
    "        z2[:,:,i]=z2[:,:,i]+a[1][i]\n",
    "    z3=np.maximum(0,z2)                 # ReLU\n",
    "    z3=np.round((z3/np.max(z3))*127)    # Quantization\n",
    "    z4=np.zeros([28,28,32])\n",
    "    for i in range(32):\n",
    "        for j in range(64):\n",
    "             z4[:,:,i]=z4[:,:,i]+My_Conv2d_LT_Var(np.array(z3[:,:,j]),np.flip(a[2][:,:,j,i]),t)\n",
    "        z4[:,:,i]=z4[:,:,i]+a[3][i]\n",
    "    z5=np.maximum(0,z4)                # ReLU\n",
    "    z5=np.round((z5/np.max(z5))*127)   # Quantization\n",
    "    z6=np.zeros([28,28,16])\n",
    "    for i in range(16):\n",
    "        for j in range(32):\n",
    "             z6[:,:,i]=z6[:,:,i]+My_Conv2d_LT_Var(np.array(z5[:,:,j]),np.flip(a[4][:,:,j,i]),t)\n",
    "        z6[:,:,i]=z6[:,:,i]+a[5][i]\n",
    "    z61=np.maximum(0,z6)              # ReLU\n",
    "    z61=np.round((z61/np.max(z61))*127) # Quantization\n",
    "    z7=np.zeros([26,26,8])\n",
    "    for i in range(8):\n",
    "        for j in range(16):\n",
    "             z7[:,:,i]=z7[:,:,i]+My_Conv2d_LT_Var(np.array(z61[:,:,j]),np.flip(a[6][:,:,j,i]),t)\n",
    "        z7[:,:,i]=z7[:,:,i]+a[7][i]\n",
    "    z8=np.maximum(0,z7)                # ReLU\n",
    "    z8=np.round((z8/np.max(z8))*127)   # Quantization\n",
    "    z9=np.zeros([24,24,4])\n",
    "    for i in range(4):\n",
    "        for j in range(8):\n",
    "             z9[:,:,i]=z9[:,:,i]+My_Conv2d_LT_Var(np.array(z8[:,:,j]),np.flip(a[8][:,:,j,i]),t)\n",
    "        z9[:,:,i]=z9[:,:,i]+a[9][i]\n",
    "    z10=np.maximum(0,z9)              # ReLU\n",
    "    z10=np.round((z10/np.max(z10))*127)  # Quantization\n",
    "    z13=np.reshape(z10,[1,-1])  #  Flatten layer\n",
    "    z14=My_Matmul_LT_Var(z13,a[10],t)+a[11]  \n",
    "    z15=np.maximum(0,z14) # ReLU\n",
    "    z15=np.round((z15/np.max(z15))*127)  # Quantization\n",
    "    z141=My_Matmul_LT_Var(z15,a[12],t)+a[13] # ReLU\n",
    "    z151=np.maximum(0,z141)\n",
    "    z151=np.round((z151/np.max(z151))*127) # Quantization\n",
    "    z16=My_Matmul_LT_Var(z151,a[14],t)+a[15]\n",
    "    z16=np.round((z16/np.max(z16))*127) # Quantization\n",
    "    return np.argmax(z16), z3,z5,z61,z8,z10,z15,z151,z16"
   ]
  },
  {
   "cell_type": "markdown",
   "metadata": {},
   "source": [
    "# Subtask 1.2"
   ]
  },
  {
   "cell_type": "code",
   "execution_count": 9,
   "id": "ce545570",
   "metadata": {},
   "outputs": [
    {
     "data": {
      "image/png": "[encoded data removed]",
      "text/plain": [
       "<Figure size 800x800 with 9 Axes>"
      ]
     },
     "metadata": {},
     "output_type": "display_data"
    },
    {
     "data": {
      "text/plain": [
       "2"
      ]
     },
     "execution_count": 9,
     "metadata": {},
     "output_type": "execute_result"
    }
   ],
   "source": [
    "Vis_Mat=[]\n",
    "for i in range(9):\n",
    "    Vis_Mat.append(CNN_Visual(418,i))\n",
    "\n",
    "images=[]\n",
    "Layer_Number=1\n",
    "for i in range(9):\n",
    "    images.append(Vis_Mat[i][Layer_Number])\n",
    "\n",
    "# Create a 3x3 grid of subplots\n",
    "fig, axes = plt.subplots(3, 3, figsize=(8, 8))\n",
    "\n",
    "# Loop through your image data and plot each image on a subplot\n",
    "for i, ax in enumerate(axes.ravel()):\n",
    "    # Check if there are more images than subplots\n",
    "    image_data=np.average(images,axis=-1)\n",
    "    if i < len(image_data):\n",
    "        ax.imshow(image_data[i])  # Plot the image\n",
    "        ax.set_title(f'Approximate Multiplier {i}')  # Set a title for the subplot\n",
    "    else:\n",
    "        ax.axis('off')  # Turn off the empty subplots if there are fewer images\n",
    "\n",
    "# Adjust spacing between subplots for better visualization\n",
    "plt.tight_layout()\n",
    "\n",
    "# Display the plot\n",
    "plt.show()\n",
    "\n",
    "#Result after CNN\n",
    "Vis_Mat[0][0]"
   ]
  },
  {
   "cell_type": "code",
   "execution_count": 10,
   "id": "2e9fb9bc",
   "metadata": {},
   "outputs": [
    {
     "name": "stdout",
     "output_type": "stream",
     "text": [
      "313/313 [==============================] - 2s 4ms/step - loss: 56280855622598000640.0000 - accuracy: 0.9925\n",
      "Test accuracy: 0.9925000071525574\n"
     ]
    }
   ],
   "source": [
    "# Assuming you have already loaded the model and test data\n",
    "\n",
    "# Compile the model if it's not already compiled\n",
    "model.compile(optimizer='adam', loss='sparse_categorical_crossentropy', metrics=['accuracy'])\n",
    "\n",
    "# Evaluate the model on the test data\n",
    "test_loss, test_accuracy = model.evaluate(test_images, test_labels)\n",
    "\n",
    "# Print the test accuracy\n",
    "print(f'Test accuracy: {test_accuracy}')\n"
   ]
  },
  {
   "cell_type": "code",
   "execution_count": 15,
   "id": "45fb6f85",
   "metadata": {},
   "outputs": [
    {
     "name": "stdout",
     "output_type": "stream",
     "text": [
      "313/313 [==============================] - 1s 4ms/step\n",
      "10000\n"
     ]
    },
    {
     "data": {
      "image/png": "[encoded data removed]",
      "text/plain": [
       "<Figure size 600x600 with 2 Axes>"
      ]
     },
     "metadata": {},
     "output_type": "display_data"
    }
   ],
   "source": [
    "from sklearn.metrics import confusion_matrix\n",
    "import seaborn as sns\n",
    "\n",
    "\n",
    "predictions = model.predict(test_images)\n",
    "print(len(predictions))\n",
    "\n",
    "# Find the indices of true \"7\" labels and predicted \"7\" labels\n",
    "true_indices = (test_labels == 8)\n",
    "predicted_indices = (np.argmax(predictions, axis=1) == 8)\n",
    "\n",
    "# Create a confusion matrix for the digit \"7\"\n",
    "confusion = confusion_matrix(true_indices, predicted_indices)\n",
    "\n",
    "# Visualize the confusion matrix\n",
    "plt.figure(figsize=(6, 6))\n",
    "sns.heatmap(confusion, annot=True, fmt=\"d\", cmap=\"Blues\", square=True,\n",
    "            xticklabels=[\"Not 7\", \"Is 7\"],\n",
    "            yticklabels=[\"Not 7\", \"Is 7\"])\n",
    "plt.xlabel('Predicted')\n",
    "plt.ylabel('True')\n",
    "plt.title(\"Confusion Matrix for Digit '7'\")\n",
    "plt.show()\n",
    "\n",
    "\n"
   ]
  },
  {
   "cell_type": "markdown",
   "metadata": {},
   "source": [
    "# Intervention\n",
    "\n",
    "I had to write up a little itervention right about here because I did not see how to fulfil the task and was not able to reach you tutors unfortunately. I did write in the moodle discussion some time ago and later I also wrote the same question as an email. \\\n",
    "I hope I simply lack some understanding for the code, but my trouble is that for the prediction accuracy evaluation with model.evaluate and the confusion matrix generated through model.predict we are using the given model. For the approximate images we plot from VisMat we have generated the input using our selfdefined CNN function. I however am not able to see how changing anything about our CNN function or its building block (e.g. the approximators) should affect the model objecct we use for the analysis. When I tried to let the CNN function run over a part of the test images it took forever and I it seemed morally unsound to waste so much energy on such an inefficient calculation. \\\n",
    "Therefore I do not understand how I am supposed to calculate the F1 score which I can find from my confusion matrix for the different approximators since I do not see how to make them affect my confusion matrix since this is created by using model.predict. "
   ]
  },
  {
   "cell_type": "markdown",
   "metadata": {},
   "source": [
    "# Subtask 1.3\n",
    "\n",
    "For this one approximator I can calculate the F1 score.\n",
    "\n",
    "\n",
    "### F1 Score Calculation Formula\n",
    "\n",
    "The F1 score in terms of true positives (TP), false positives (FP), true negatives (TN), and false negatives (FN) is calculated using the formula:\n",
    "\n",
    "F1 Score = 2 * (TP) / (2 * TP + FP + FN)\n",
    "\n",
    "where:\n",
    "- TP (True Positives) represents the number of correctly predicted positive observations.\n",
    "- FP (False Positives) represents the number of incorrectly predicted positive observations.\n",
    "- FN (False Negatives) represents the number of incorrectly predicted negative observations.\n",
    "- TN (True Negatives) represents the number of correctly predicted negative observations.\n",
    "\n",
    "\n",
    "### Result\n",
    "\n",
    "F1 Score = 0.993309315"
   ]
  },
  {
   "cell_type": "markdown",
   "metadata": {},
   "source": [
    "# Subtask 1.4\n",
    "\n",
    "Already done thanks for caring :)"
   ]
  },
  {
   "cell_type": "markdown",
   "metadata": {},
   "source": []
  }
 ],
 "metadata": {
  "kernelspec": {
   "display_name": "Python 3 (ipykernel)",
   "language": "python",
   "name": "python3"
  },
  "language_info": {
   "codemirror_mode": {
    "name": "ipython",
    "version": 3
   },
   "file_extension": ".py",
   "mimetype": "text/x-python",
   "name": "python",
   "nbconvert_exporter": "python",
   "pygments_lexer": "ipython3",
   "version": "3.10.12"
  }
 },
 "nbformat": 4,
 "nbformat_minor": 5
}
