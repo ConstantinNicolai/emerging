{
 "cells": [
  {
   "cell_type": "code",
   "execution_count": 185,
   "metadata": {},
   "outputs": [],
   "source": [
    "import numpy as np\n",
    "from scipy import signal"
   ]
  },
  {
   "cell_type": "code",
   "execution_count": 186,
   "metadata": {},
   "outputs": [],
   "source": [
    "img = np.load(\"sample.npy\")\n",
    "img = np.floor(img/2)\n",
    "filt = np.load(\"filter.npy\")"
   ]
  },
  {
   "cell_type": "markdown",
   "metadata": {},
   "source": [
    "### Defining the convolution with and without our lookup based multiply "
   ]
  },
  {
   "cell_type": "code",
   "execution_count": 187,
   "metadata": {},
   "outputs": [],
   "source": [
    "def conv2d(a, b):\n",
    "    a = np.array(a)\n",
    "    b = np.array(b)\n",
    "    \n",
    "    a_shape = np.shape(a)\n",
    "    b_shape = np.shape(b)\n",
    "    \n",
    "    a_b_diff_dim_0 = np.abs(a_shape[0]-b.shape[0]+1)\n",
    "    a_b_diff_dim_1 = np.abs(a_shape[1]-b.shape[1]+1)\n",
    "    \n",
    "    conv_res = np.zeros([a_b_diff_dim_0, a_b_diff_dim_1])\n",
    "    \n",
    "    for i in range(a_b_diff_dim_0):\n",
    "        for j in range(a_b_diff_dim_1):\n",
    "            conv_res[i,j] = np.sum(np.multiply(np.flip(b), a[i:i + b_shape[0], j:j + b_shape[1]]))\n",
    "    \n",
    "    return conv_res\n",
    "\n",
    "\n",
    "def create_lookup_table():\n",
    "    Multiplier = np.zeros((256, 256), dtype=int)\n",
    "    for i in range(256):\n",
    "        for j in range(256):\n",
    "            Multiplier[i, j] = (i - 128) * (j - 128)\n",
    "    return Multiplier\n",
    "\n",
    "\n",
    "def My_Mult(a, b):\n",
    "    assert a.shape == b.shape, \"Input matrices must have the same shape.\"\n",
    "    a_int = a.astype(int)\n",
    "    b_int = b.astype(int)\n",
    "    result = Multiplier[a_int + 128, b_int + 128]\n",
    "    return result\n",
    "\n",
    "\n",
    "def MIMIconv2d(a, b):\n",
    "    a = np.array(a)\n",
    "    b = np.array(b)\n",
    "    \n",
    "    a_shape = np.shape(a)\n",
    "    b_shape = np.shape(b)\n",
    "    \n",
    "    a_b_diff_dim_0 = np.abs(a_shape[0]-b.shape[0]+1)\n",
    "    a_b_diff_dim_1 = np.abs(a_shape[1]-b.shape[1]+1)\n",
    "    \n",
    "    conv_res = np.zeros([a_b_diff_dim_0, a_b_diff_dim_1])\n",
    "    \n",
    "    for i in range(a_b_diff_dim_0):\n",
    "        for j in range(a_b_diff_dim_1):\n",
    "            conv_res[i,j] = np.sum(My_Mult(np.flip(b), a[i:i + b_shape[0], j:j + b_shape[1]]), dtype=int)\n",
    "    \n",
    "    return conv_res\n"
   ]
  },
  {
   "cell_type": "code",
   "execution_count": 190,
   "metadata": {},
   "outputs": [
    {
     "name": "stdout",
     "output_type": "stream",
     "text": [
      "254\n",
      "254\n",
      "254\n",
      "Error: 0.0\n"
     ]
    }
   ],
   "source": [
    "Multiplier = create_lookup_table()\n",
    "\n",
    "mimi_result = MIMIconv2d(img, filt)\n",
    "fofo = signal.convolve2d(img,filt, mode = \"valid\")\n",
    "foo = conv2d(img, filt)\n",
    "\n",
    "print(np.shape(my_result)[0])\n",
    "print(np.shape(foo)[0])\n",
    "print(np.shape(fofo)[0])\n",
    "\n",
    "error = np.sum(np.abs(fofo - mimi_result))\n",
    "print(f\"Error: {error}\")"
   ]
  },
  {
   "cell_type": "markdown",
   "metadata": {},
   "source": [
    "With create_lookup_table() we have initialized the lookuptable for al mulitplications of integers from 0 to 255.\n",
    "\n",
    "My_Mult uses this to look up the result of the multiplication. Unfortunately, while we are saving computational complexity by simply looking up our muliplication results in a precomputed table, we are introducing additional memory complexity which could also hurt our performance, especially if we are not compute but memory bound and our problem size exceeds the size of our cache. \n",
    "\n",
    "In the fourth subtask we simply replace the numpy multiply with our own freshly implemented one.\n",
    "I would have expected for the accuracy to go down, but either our input values are not extreme enough to have a considerable error from the quantization or I might have done something wrong."
   ]
  },
  {
   "cell_type": "markdown",
   "metadata": {},
   "source": []
  }
 ],
 "metadata": {
  "kernelspec": {
   "display_name": "Python 3",
   "language": "python",
   "name": "python3"
  },
  "language_info": {
   "codemirror_mode": {
    "name": "ipython",
    "version": 3
   },
   "file_extension": ".py",
   "mimetype": "text/x-python",
   "name": "python",
   "nbconvert_exporter": "python",
   "pygments_lexer": "ipython3",
   "version": "3.8.10"
  }
 },
 "nbformat": 4,
 "nbformat_minor": 4
}
