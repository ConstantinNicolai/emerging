{
 "cells": [
  {
   "cell_type": "code",
   "execution_count": 138,
   "metadata": {},
   "outputs": [],
   "source": [
    "import numpy as np\n",
    "from scipy import signal"
   ]
  },
  {
   "cell_type": "code",
   "execution_count": 139,
   "metadata": {},
   "outputs": [],
   "source": [
    "img = np.load(\"sample.npy\")\n",
    "img = np.floor(img/2)\n",
    "filt = np.load(\"filter.npy\")"
   ]
  },
  {
   "cell_type": "markdown",
   "metadata": {},
   "source": [
    "# Defining the convolution"
   ]
  },
  {
   "cell_type": "code",
   "execution_count": 140,
   "metadata": {},
   "outputs": [],
   "source": [
    "def conv2d(a, b):\n",
    "    a = np.array(a)\n",
    "    b = np.array(b)\n",
    "    \n",
    "    a_shape = np.shape(a)\n",
    "    b_shape = np.shape(b)\n",
    "    \n",
    "    a_b_diff_dim_0 = np.abs(a_shape[0]-b.shape[0]+1)\n",
    "    a_b_diff_dim_1 = np.abs(a_shape[1]-b.shape[1]+1)\n",
    "    \n",
    "    conv_res = np.zeros([a_b_diff_dim_0, a_b_diff_dim_1])\n",
    "    \n",
    "    for i in range(a_b_diff_dim_0):\n",
    "        for j in range(a_b_diff_dim_1):\n",
    "            conv_res[i,j] = np.sum(np.multiply(np.flip(b), a[i:i + b_shape[0], j:j + b_shape[1]]))\n",
    "    \n",
    "    return conv_res\n",
    "\n",
    "\n",
    "def create_lookup_table():\n",
    "    Multiplier = np.zeros((256, 256), dtype=int)\n",
    "    for i in range(256):\n",
    "        for j in range(256):\n",
    "            Multiplier[i, j] = (i - 128) * (j - 128)\n",
    "    return Multiplier\n",
    "\n",
    "\n",
    "def My_Mult(a, b):\n",
    "    assert a.shape == b.shape, \"Input matrices must have the same shape.\"\n",
    "    a_int = a.astype(int)\n",
    "    b_int = b.astype(int)\n",
    "    Multiplier = create_lookup_table()\n",
    "    result = Multiplier[a_int + 128, b_int + 128]\n",
    "    return result\n",
    "\n",
    "\n",
    "def MIMIconv2d(a, b):\n",
    "    a = np.array(a)\n",
    "    b = np.array(b)\n",
    "    \n",
    "    a_shape = np.shape(a)\n",
    "    b_shape = np.shape(b)\n",
    "    \n",
    "    a_b_diff_dim_0 = np.abs(a_shape[0]-b.shape[0]+1)\n",
    "    a_b_diff_dim_1 = np.abs(a_shape[1]-b.shape[1]+1)\n",
    "    \n",
    "    conv_res = np.zeros([a_b_diff_dim_0, a_b_diff_dim_1])\n",
    "    \n",
    "    for i in range(a_b_diff_dim_0):\n",
    "        for j in range(a_b_diff_dim_1):\n",
    "            conv_res[i,j] = np.sum(My_Mult(np.flip(b), a[i:i + b_shape[0], j:j + b_shape[1]]))\n",
    "    \n",
    "    return conv_res\n"
   ]
  },
  {
   "cell_type": "code",
   "execution_count": 141,
   "metadata": {},
   "outputs": [],
   "source": [
    "foo = conv2d(img, filt)"
   ]
  },
  {
   "cell_type": "code",
   "execution_count": 142,
   "metadata": {},
   "outputs": [],
   "source": [
    "fofo = signal.convolve2d(img,filt, mode = \"valid\")"
   ]
  },
  {
   "cell_type": "code",
   "execution_count": 143,
   "metadata": {},
   "outputs": [
    {
     "name": "stdout",
     "output_type": "stream",
     "text": [
      "254\n",
      "254\n",
      "254\n",
      "Error between My_conv2d and conv2d: 0.0\n"
     ]
    }
   ],
   "source": [
    "mimi_result = MIMIconv2d(img, filt)\n",
    "\n",
    "print(np.shape(my_result)[0])\n",
    "print(np.shape(foo)[0])\n",
    "print(np.shape(fofo)[0])\n",
    "\n",
    "error = np.sum(np.abs(fofo - mimi_result))\n",
    "print(f\"Error between My_conv2d and conv2d: {error}\")"
   ]
  },
  {
   "cell_type": "markdown",
   "metadata": {},
   "source": [
    "With create_lookup_table() we have initialized the lookuptable for al mulitplications of integers from 0 to 255.\n",
    "\n",
    "My_Mult uses this to look up the result of the multiplication. Unfortunately, while we are saving computational complexity by simply looking up our muliplication results in a precomputed table, we are introducing additional memory complexity which could also hurt our performance, especially if we are not compute but memory bound and our problem size exceeds the size of our cache. \n",
    "\n",
    "In the fourth subtask we simply replace the numpy multiply with our own freshly implemented one."
   ]
  },
  {
   "cell_type": "code",
   "execution_count": 144,
   "metadata": {},
   "outputs": [
    {
     "data": {
      "text/plain": [
       "array([[542., 548., 564., ..., 682., 570., 362.],\n",
       "       [544., 550., 568., ..., 475., 409., 257.],\n",
       "       [542., 546., 559., ..., 241., 155., 111.],\n",
       "       ...,\n",
       "       [181., 187., 214., ..., 269., 311., 350.],\n",
       "       [179., 186., 207., ..., 341., 356., 344.],\n",
       "       [189., 180., 185., ..., 388., 387., 357.]])"
      ]
     },
     "execution_count": 144,
     "metadata": {},
     "output_type": "execute_result"
    }
   ],
   "source": [
    "foo"
   ]
  },
  {
   "cell_type": "code",
   "execution_count": 145,
   "metadata": {},
   "outputs": [
    {
     "data": {
      "text/plain": [
       "array([[576., 556., 542., ..., 442., 630., 770.],\n",
       "       [564., 554., 548., ..., 495., 541., 557.],\n",
       "       [562., 546., 545., ..., 441., 329., 317.],\n",
       "       ...,\n",
       "       [169., 165., 162., ..., 181., 195., 232.],\n",
       "       [159., 164., 157., ..., 201., 254., 288.],\n",
       "       [147., 172., 163., ..., 222., 293., 331.]])"
      ]
     },
     "execution_count": 145,
     "metadata": {},
     "output_type": "execute_result"
    }
   ],
   "source": [
    "my_result"
   ]
  },
  {
   "cell_type": "code",
   "execution_count": null,
   "metadata": {},
   "outputs": [],
   "source": []
  },
  {
   "cell_type": "markdown",
   "metadata": {},
   "source": []
  }
 ],
 "metadata": {
  "kernelspec": {
   "display_name": "Python 3",
   "language": "python",
   "name": "python3"
  },
  "language_info": {
   "codemirror_mode": {
    "name": "ipython",
    "version": 3
   },
   "file_extension": ".py",
   "mimetype": "text/x-python",
   "name": "python",
   "nbconvert_exporter": "python",
   "pygments_lexer": "ipython3",
   "version": "3.8.10"
  }
 },
 "nbformat": 4,
 "nbformat_minor": 4
}
