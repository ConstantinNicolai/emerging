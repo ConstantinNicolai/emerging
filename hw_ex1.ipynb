{
 "cells": [
  {
   "cell_type": "code",
   "execution_count": 15,
   "metadata": {},
   "outputs": [],
   "source": [
    "import numpy as np\n",
    "from scipy import signal"
   ]
  },
  {
   "cell_type": "code",
   "execution_count": 16,
   "metadata": {},
   "outputs": [],
   "source": [
    "img = np.load(\"sample.npy\")\n",
    "img = np.floor(img/2)\n",
    "filt = np.load(\"filter.npy\")"
   ]
  },
  {
   "cell_type": "markdown",
   "metadata": {},
   "source": [
    "# Defining the convolution"
   ]
  },
  {
   "cell_type": "code",
   "execution_count": 17,
   "metadata": {},
   "outputs": [],
   "source": [
    "def conv2d(a, b):\n",
    "    a = np.array(a)\n",
    "    b = np.array(b)\n",
    "    \n",
    "    a_shape = np.shape(a)\n",
    "    b_shape = np.shape(b)\n",
    "    \n",
    "    a_b_diff_dim_0 = np.abs(a_shape[0]-b.shape[0]+1)\n",
    "    a_b_diff_dim_1 = np.abs(a_shape[1]-b.shape[1]+1)\n",
    "    \n",
    "    conv_res = np.zeros([a_b_diff_dim_0, a_b_diff_dim_1])\n",
    "    \n",
    "    for i in range(a_b_diff_dim_0):\n",
    "        for j in range(a_b_diff_dim_1):\n",
    "            conv_res[i,j] = np.sum(np.multiply(np.flip(b), a[i:i + b_shape[0], j:j + b_shape[1]]))\n",
    "    \n",
    "    return conv_res\n",
    "\n",
    "\n",
    "\n",
    "def create_lookup_table():\n",
    "    Multiplier = np.zeros((256, 256), dtype=int)\n",
    "    for i in range(256):\n",
    "        for j in range(256):\n",
    "            Multiplier[i, j] = (i - 128) * (j - 128)\n",
    "    return Multiplier\n",
    "\n",
    "\n",
    "def My_Mult(a, b):\n",
    "    # Ensure both matrices are of the same shape\n",
    "    assert a.shape == b.shape, \"Input matrices must have the same shape.\"\n",
    "\n",
    "    # Convert the values of matrices a and b to integers\n",
    "    a_int = a.astype(int)\n",
    "    b_int = b.astype(int)\n",
    "\n",
    "    # Add 128 to the integer values and use the value to look up the result in Multiplier\n",
    "    result = Multiplier[a_int + 128, b_int + 128]\n",
    "\n",
    "    return result\n",
    "\n",
    "\n",
    "\n",
    "def My_conv2d(image, kernel):\n",
    "    # Ensure the kernel is the same size as a region of the image\n",
    "    assert kernel.shape[0] <= image.shape[0] and kernel.shape[1] <= image.shape[1], \"Kernel size must be less than or equal to image size.\"\n",
    "\n",
    "    # Initialize the result matrix\n",
    "    result = np.zeros(image.shape, dtype=int)\n",
    "\n",
    "    # Iterate over the image and apply convolution using My_Mult\n",
    "    for i in range(image.shape[0] - kernel.shape[0] + 1):\n",
    "        for j in range(image.shape[1] - kernel.shape[1] + 1):\n",
    "            region = image[i:i + kernel.shape[0], j:j + kernel.shape[1]]\n",
    "            result[i, j] = np.sum(My_Mult(region, kernel))\n",
    "\n",
    "    return result"
   ]
  },
  {
   "cell_type": "code",
   "execution_count": 18,
   "metadata": {},
   "outputs": [],
   "source": [
    "foo = conv2d(img, filt)"
   ]
  },
  {
   "cell_type": "code",
   "execution_count": 19,
   "metadata": {},
   "outputs": [],
   "source": [
    "fofo = signal.convolve2d(img,filt, mode = \"valid\")"
   ]
  },
  {
   "cell_type": "code",
   "execution_count": 20,
   "metadata": {},
   "outputs": [
    {
     "name": "stdout",
     "output_type": "stream",
     "text": [
      "[[ True  True  True ...  True  True  True]\n",
      " [ True  True  True ...  True  True  True]\n",
      " [ True  True  True ...  True  True  True]\n",
      " ...\n",
      " [ True  True  True ...  True  True  True]\n",
      " [ True  True  True ...  True  True  True]\n",
      " [ True  True  True ...  True  True  True]]\n"
     ]
    }
   ],
   "source": [
    "print(foo==fofo)"
   ]
  },
  {
   "cell_type": "code",
   "execution_count": 21,
   "metadata": {},
   "outputs": [
    {
     "ename": "ValueError",
     "evalue": "operands could not be broadcast together with shapes (256,256) (254,254) ",
     "output_type": "error",
     "traceback": [
      "\u001b[0;31m---------------------------------------------------------------------------\u001b[0m",
      "\u001b[0;31mValueError\u001b[0m                                Traceback (most recent call last)",
      "\u001b[1;32m/home/constantin/Documents/emerging/hw_ex1.ipynb Cell 8\u001b[0m line \u001b[0;36m5\n\u001b[1;32m      <a href='vscode-notebook-cell:/home/constantin/Documents/emerging/hw_ex1.ipynb#X10sZmlsZQ%3D%3D?line=0'>1</a>\u001b[0m Multiplier \u001b[39m=\u001b[39m create_lookup_table()\n\u001b[1;32m      <a href='vscode-notebook-cell:/home/constantin/Documents/emerging/hw_ex1.ipynb#X10sZmlsZQ%3D%3D?line=2'>3</a>\u001b[0m my_result \u001b[39m=\u001b[39m My_conv2d(img, filt)\n\u001b[0;32m----> <a href='vscode-notebook-cell:/home/constantin/Documents/emerging/hw_ex1.ipynb#X10sZmlsZQ%3D%3D?line=4'>5</a>\u001b[0m error \u001b[39m=\u001b[39m np\u001b[39m.\u001b[39msum(np\u001b[39m.\u001b[39mabs(my_result \u001b[39m-\u001b[39;49m fofo))\n\u001b[1;32m      <a href='vscode-notebook-cell:/home/constantin/Documents/emerging/hw_ex1.ipynb#X10sZmlsZQ%3D%3D?line=5'>6</a>\u001b[0m \u001b[39mprint\u001b[39m(\u001b[39mf\u001b[39m\u001b[39m\"\u001b[39m\u001b[39mError between My_conv2d and conv2d: \u001b[39m\u001b[39m{\u001b[39;00merror\u001b[39m}\u001b[39;00m\u001b[39m\"\u001b[39m)\n",
      "\u001b[0;31mValueError\u001b[0m: operands could not be broadcast together with shapes (256,256) (254,254) "
     ]
    }
   ],
   "source": [
    "Multiplier = create_lookup_table()\n",
    "\n",
    "my_result = My_conv2d(img, filt)\n",
    "\n",
    "error = np.sum(np.abs(foo - fofo))\n",
    "print(f\"Error between My_conv2d and conv2d: {error}\")"
   ]
  }
 ],
 "metadata": {
  "kernelspec": {
   "display_name": "Python 3",
   "language": "python",
   "name": "python3"
  },
  "language_info": {
   "codemirror_mode": {
    "name": "ipython",
    "version": 3
   },
   "file_extension": ".py",
   "mimetype": "text/x-python",
   "name": "python",
   "nbconvert_exporter": "python",
   "pygments_lexer": "ipython3",
   "version": "3.8.10"
  }
 },
 "nbformat": 4,
 "nbformat_minor": 4
}
